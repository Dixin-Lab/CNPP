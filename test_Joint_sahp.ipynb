{
 "cells": [
  {
   "cell_type": "code",
   "execution_count": 1,
   "metadata": {},
   "outputs": [
    {
     "name": "stderr",
     "output_type": "stream",
     "text": [
      "/home/haoran/.local/lib/python3.9/site-packages/tqdm/auto.py:22: TqdmWarning: IProgress not found. Please update jupyter and ipywidgets. See https://ipywidgets.readthedocs.io/en/stable/user_install.html\n",
      "  from .autonotebook import tqdm as notebook_tqdm\n"
     ]
    }
   ],
   "source": [
    "%matplotlib inline\n",
    "import numpy as np\n",
    "import matplotlib.pyplot as plt\n",
    "import torch\n",
    "import torch.nn as nn\n",
    "import torch.nn.functional as F\n",
    "import torch.optim as optim\n",
    "import math\n",
    "import pickle\n",
    "import random"
   ]
  },
  {
   "cell_type": "code",
   "execution_count": 35,
   "metadata": {},
   "outputs": [
    {
     "data": {
      "text/plain": [
       "(odict_keys(['type_emb_list.0.weight', 'type_emb_list.1.weight', 'position_emb.position', 'position_emb.div_term', 'position_emb.Wt.weight', 'attention.linear_layers.0.weight', 'attention.linear_layers.0.bias', 'attention.linear_layers.1.weight', 'attention.linear_layers.1.bias', 'attention.linear_layers.2.weight', 'attention.linear_layers.2.bias', 'attention.output_linear.weight', 'attention.output_linear.bias', 'feed_forward.w_1.weight', 'feed_forward.w_1.bias', 'feed_forward.w_2.weight', 'feed_forward.w_2.bias', 'input_sublayer.norm.a_2', 'input_sublayer.norm.b_2', 'output_sublayer.norm.a_2', 'output_sublayer.norm.b_2', 'start_layer.0.weight', 'start_layer.0.bias', 'converge_layer.0.weight', 'converge_layer.0.bias', 'decay_layer.0.weight', 'decay_layer.0.bias', 'intensity_layer_list.0.0.weight', 'intensity_layer_list.0.0.bias', 'intensity_layer_list.1.0.weight', 'intensity_layer_list.1.0.bias']),\n",
       " ['gnd_pairs', 'train_pairs', 'test_pairs'])"
      ]
     },
     "execution_count": 35,
     "metadata": {},
     "output_type": "execute_result"
    }
   ],
   "source": [
    "\n",
    "# 有向无权图\n",
    "# model_param = torch.load(\"./Joint_sahp/saved_models/sahp-synthetic_hidden16-20221224-202901.pth\")\n",
    "# 有向无权图带OT约束\n",
    "# model_param = torch.load(\"./Joint_sahp/saved_models/sahp-synthetic_hidden16-20221224-203400.pth\")\n",
    "# 有向有权图\n",
    "# model_param = torch.load(\"./Joint_sahp/saved_models/sahp-synthetic_hidden16-20221224-203524.pth\")\n",
    "# 有向有权图带OT约束\n",
    "# model_param = torch.load(\"./Joint_sahp/saved_models/sahp-synthetic_hidden16-20221224-203943.pth\")\n",
    "# aligned_data = np.load(\"./data/ER_10_10/pairs_0.2_directed.npz\")\n",
    "\n",
    "# 无向无权图\n",
    "# model_param = torch.load(\"./Joint_sahp/saved_models/sahp-synthetic_hidden16-20221224-201228.pth\")\n",
    "# 无向无权图带OT约束\n",
    "# model_param = torch.load(\"./Joint_sahp/saved_models/sahp-synthetic_hidden16-20221224-202018.pth\")\n",
    "# 无向有权图\n",
    "# model_param = torch.load(\"./Joint_sahp/saved_models/sahp-synthetic_hidden16-20221224-202503.pth\")\n",
    "# 无向有权图带OT约束\n",
    "model_param = torch.load(\"./Joint_sahp/saved_models/sahp-synthetic_hidden16-20221224-202731.pth\")\n",
    "aligned_data = np.load(\"./data/ER_10_10/pairs_0.2_undirected.npz\")\n",
    "\n",
    "model_param.keys(), list(aligned_data)"
   ]
  },
  {
   "cell_type": "code",
   "execution_count": 36,
   "metadata": {},
   "outputs": [],
   "source": [
    "emb_0, emb_1 = model_param['type_emb_list.0.weight'][:-1].cpu(), model_param['type_emb_list.1.weight'][:-1].cpu()"
   ]
  },
  {
   "cell_type": "code",
   "execution_count": 37,
   "metadata": {},
   "outputs": [
    {
     "name": "stderr",
     "output_type": "stream",
     "text": [
      "/home/haoran/anaconda3/envs/pytorch/lib/python3.9/site-packages/sklearn/manifold/_t_sne.py:800: FutureWarning: The default initialization in TSNE will change from 'random' to 'pca' in 1.2.\n",
      "  warnings.warn(\n",
      "/home/haoran/anaconda3/envs/pytorch/lib/python3.9/site-packages/sklearn/manifold/_t_sne.py:810: FutureWarning: The default learning rate in TSNE will change from 200.0 to 'auto' in 1.2.\n",
      "  warnings.warn(\n"
     ]
    },
    {
     "data": {
      "text/plain": [
       "<matplotlib.legend.Legend at 0x7f7c860f2d30>"
      ]
     },
     "execution_count": 37,
     "metadata": {},
     "output_type": "execute_result"
    },
    {
     "data": {
      "image/png": "[encoded data removed]",
      "text/plain": [
       "<Figure size 720x360 with 1 Axes>"
      ]
     },
     "metadata": {
      "needs_background": "light"
     },
     "output_type": "display_data"
    }
   ],
   "source": [
    "from sklearn.manifold import TSNE\n",
    "X_tsne = TSNE(n_components=2, perplexity=3,random_state=33).fit_transform(emb_0)\n",
    "plt.figure(figsize=(10, 5))\n",
    "plt.scatter(X_tsne[:, 0], X_tsne[:, 1], label=\"t-SNE\")\n",
    "plt.legend()"
   ]
  },
  {
   "cell_type": "code",
   "execution_count": 38,
   "metadata": {},
   "outputs": [
    {
     "name": "stderr",
     "output_type": "stream",
     "text": [
      "/home/haoran/anaconda3/envs/pytorch/lib/python3.9/site-packages/sklearn/manifold/_t_sne.py:800: FutureWarning: The default initialization in TSNE will change from 'random' to 'pca' in 1.2.\n",
      "  warnings.warn(\n",
      "/home/haoran/anaconda3/envs/pytorch/lib/python3.9/site-packages/sklearn/manifold/_t_sne.py:810: FutureWarning: The default learning rate in TSNE will change from 200.0 to 'auto' in 1.2.\n",
      "  warnings.warn(\n"
     ]
    },
    {
     "data": {
      "text/plain": [
       "<matplotlib.legend.Legend at 0x7f7c860d9d60>"
      ]
     },
     "execution_count": 38,
     "metadata": {},
     "output_type": "execute_result"
    },
    {
     "data": {
      "image/png": "[encoded data removed]",
      "text/plain": [
       "<Figure size 720x360 with 1 Axes>"
      ]
     },
     "metadata": {
      "needs_background": "light"
     },
     "output_type": "display_data"
    }
   ],
   "source": [
    "X_tsne = TSNE(n_components=2, perplexity=3,random_state=33).fit_transform(emb_1)\n",
    "plt.figure(figsize=(10, 5))\n",
    "plt.scatter(X_tsne[:, 0], X_tsne[:, 1], label=\"t-SNE\")\n",
    "plt.legend()"
   ]
  },
  {
   "cell_type": "code",
   "execution_count": 39,
   "metadata": {},
   "outputs": [],
   "source": [
    "def sim_matrix(a, b, eps=1e-8):\n",
    "    \"\"\"\n",
    "    added eps for numerical stability\n",
    "    \"\"\"\n",
    "    a_n, b_n = a.norm(dim=1)[:, None], b.norm(dim=1)[:, None]\n",
    "    a_norm = a / torch.clamp(a_n, min=eps)\n",
    "    b_norm = b / torch.clamp(b_n, min=eps)\n",
    "    sim_mt = torch.mm(a_norm, b_norm.transpose(0, 1))\n",
    "    return sim_mt\n",
    "\n",
    "\n",
    "def distance_tensor(pts_src: torch.Tensor, pts_dst: torch.Tensor, p: int = 2):\n",
    "    \"\"\"\n",
    "    Returns the matrix of ||x_i-y_j||_p^p.\n",
    "    :param pts_src: [R, D] matrix\n",
    "    :param pts_dst: [C, D] matrix\n",
    "    :param p:\n",
    "    :return: [R, C, D] distance matrix\n",
    "    \"\"\"\n",
    "    x_col = pts_src.unsqueeze(1)\n",
    "    y_row = pts_dst.unsqueeze(0)\n",
    "    distance = torch.abs(x_col - y_row) ** p\n",
    "    return distance\n",
    "\n",
    "\n",
    "def sinkhorn2(cost: torch.Tensor, tau: float, num: int, eps: float = 1e-6):\n",
    "    x = -cost / tau\n",
    "    for _ in range(num):\n",
    "        x = x - torch.logsumexp(x, dim=1, keepdim=True)\n",
    "        x = x - torch.logsumexp(x, dim=0, keepdim=True)\n",
    "        if _ == 1:\n",
    "            print('X: ', x)\n",
    "    return torch.exp(x)"
   ]
  },
  {
   "cell_type": "code",
   "execution_count": 40,
   "metadata": {},
   "outputs": [
    {
     "name": "stdout",
     "output_type": "stream",
     "text": [
      "tensor([[1.8051, 2.9810, 2.5132, 3.6956, 0.7261, 2.9444, 3.0358, 2.2277, 1.9996,\n",
      "         3.4157],\n",
      "        [2.0122, 2.2015, 2.4283, 2.6603, 1.6440, 2.5473, 2.4969, 2.5805, 1.6625,\n",
      "         3.5270],\n",
      "        [2.0865, 4.6141, 2.6868, 3.7100, 4.0257, 3.7182, 2.4104, 3.7401, 2.4499,\n",
      "         3.2010],\n",
      "        [1.5640, 1.8840, 1.7065, 1.9464, 1.4809, 2.3670, 2.4645, 1.7667, 2.7489,\n",
      "         3.7954],\n",
      "        [1.2073, 2.2694, 1.7626, 2.6715, 1.6226, 1.7820, 3.3161, 2.1061, 1.5638,\n",
      "         3.3142],\n",
      "        [2.4522, 2.4680, 2.4741, 2.4789, 2.1266, 2.5183, 2.2074, 3.5348, 2.3699,\n",
      "         1.8452],\n",
      "        [2.3707, 2.3119, 2.2818, 2.6624, 1.2240, 1.7466, 3.1120, 0.9132, 2.0243,\n",
      "         2.7379],\n",
      "        [2.1019, 1.3231, 2.2627, 2.7974, 2.1898, 2.4452, 2.3499, 2.0366, 2.1635,\n",
      "         2.5487],\n",
      "        [2.2176, 2.0495, 1.9095, 1.5244, 2.4765, 2.5088, 3.2552, 3.2985, 2.2373,\n",
      "         1.5776],\n",
      "        [1.3648, 2.5740, 0.7085, 1.5360, 1.7037, 1.9469, 3.0491, 3.0932, 2.0651,\n",
      "         3.1489]])\n",
      "X:  tensor([[-1.0782e+03, -2.2537e+03, -1.7859e+03, -2.9683e+03, -8.1093e-01,\n",
      "         -1.6421e+03, -1.9842e+03, -1.5005e+03, -1.2536e+03, -2.6884e+03],\n",
      "        [-3.6878e+02, -5.5782e+02, -7.8460e+02, -1.0166e+03, -2.1972e+00,\n",
      "         -3.2847e+02, -5.2891e+02, -9.3680e+02,  0.0000e+00, -1.8833e+03],\n",
      "        [-6.9315e-01, -2.5280e+03, -6.0070e+02, -1.6239e+03, -1.9415e+03,\n",
      "         -1.0570e+03,  0.0000e+00, -1.6540e+03, -3.4504e+02, -1.1149e+03],\n",
      "        [-8.2336e+01, -4.0202e+02, -2.2453e+02, -4.6438e+02, -8.1093e-01,\n",
      "         -3.0994e+02, -6.5823e+02, -2.8467e+02, -1.2481e+03, -2.3134e+03],\n",
      "        [-6.9315e-01, -1.0625e+03, -5.5567e+02, -1.4646e+03, -4.1764e+02,\n",
      "          0.0000e+00, -1.7849e+03, -8.9919e+02, -3.3811e+02, -2.1072e+03],\n",
      "        [-6.0735e+02, -6.2283e+02, -6.2891e+02, -6.3373e+02, -2.8339e+02,\n",
      "         -9.8013e+01, -3.7950e+01, -1.6896e+03, -5.0597e+02,  0.0000e+00],\n",
      "        [-1.4577e+03, -1.3987e+03, -1.3685e+03, -1.7492e+03, -3.1271e+02,\n",
      "         -2.5824e+02, -1.8745e+03,  0.0000e+00, -1.0923e+03, -1.8247e+03],\n",
      "        [-7.7913e+02,  0.0000e+00, -9.3958e+02, -1.4743e+03, -8.6861e+02,\n",
      "         -5.4697e+02, -7.0257e+02, -7.1357e+02, -8.2163e+02, -1.2256e+03],\n",
      "        [-6.9346e+02, -5.2509e+02, -3.8510e+02,  0.0000e+00, -9.5400e+02,\n",
      "         -4.0920e+02, -1.4065e+03, -1.7740e+03, -6.9410e+02, -5.3146e+01],\n",
      "        [-6.5658e+02, -1.8655e+03,  0.0000e+00, -8.2742e+02, -9.9710e+02,\n",
      "         -6.6323e+02, -2.0163e+03, -2.3846e+03, -1.3378e+03, -2.4404e+03]])\n",
      "tensor(1.) tensor(10.0000) tensor(1.0013) tensor(0.9984) tensor(1.) tensor(0.)\n"
     ]
    }
   ],
   "source": [
    "tau = 1e-3\n",
    "num = 1000\n",
    "cost_w = torch.sum(distance_tensor(emb_0, emb_1, p=2), dim=2)\n",
    "print(cost_w)\n",
    "trans_est = sinkhorn2(cost=cost_w, tau=tau, num=num)\n",
    "print (trans_est.max(),\n",
    "       trans_est.sum(),\n",
    "      trans_est.sum(dim=1).max(), trans_est.sum(dim=1).min(),\n",
    "      torch.diag(torch.flipud(trans_est)).max(), torch.diag(torch.flipud(trans_est)).min())"
   ]
  },
  {
   "cell_type": "code",
   "execution_count": 41,
   "metadata": {},
   "outputs": [
    {
     "data": {
      "text/plain": [
       "<matplotlib.colorbar.Colorbar at 0x7f7c7cecd1f0>"
      ]
     },
     "execution_count": 41,
     "metadata": {},
     "output_type": "execute_result"
    },
    {
     "data": {
      "image/png": "[encoded data removed]",
      "text/plain": [
       "<Figure size 720x360 with 2 Axes>"
      ]
     },
     "metadata": {
      "needs_background": "light"
     },
     "output_type": "display_data"
    }
   ],
   "source": [
    "plt.figure(figsize=(10, 5))\n",
    "plt.imshow(trans_est)\n",
    "plt.colorbar()\n",
    "# plt.savefig('Est.pdf')\n",
    "# plt.close('all')"
   ]
  },
  {
   "cell_type": "code",
   "execution_count": 42,
   "metadata": {},
   "outputs": [
    {
     "data": {
      "text/plain": [
       "(tensor([6, 4, 9, 1, 2, 5, 3, 0, 7, 8]),\n",
       " tensor([4, 8, 6, 0, 5, 9, 7, 1, 3, 2]),\n",
       " tensor(0))"
      ]
     },
     "execution_count": 42,
     "metadata": {},
     "output_type": "execute_result"
    }
   ],
   "source": [
    "node_num0 = emb_0.shape[0]\n",
    "node_num1 = emb_1.shape[0]\n",
    "gnd_0 = torch.LongTensor(aligned_data['gnd_pairs'].astype(np.int32)[:, 0])\n",
    "gnd_1 = torch.LongTensor(aligned_data['gnd_pairs'].astype(np.int32)[:, 1])\n",
    "trans_real = torch.zeros((node_num0, node_num1))\n",
    "for i, j in zip(gnd_0, gnd_1):\n",
    "    trans_real[i, j] = 1.0\n",
    "true_idx = torch.max(trans_real, dim=1).indices\n",
    "predict_idx = torch.max(trans_est, dim=1).indices \n",
    "acc = (true_idx == predict_idx).sum()\n",
    "true_idx, predict_idx, acc"
   ]
  },
  {
   "cell_type": "code",
   "execution_count": 43,
   "metadata": {},
   "outputs": [
    {
     "data": {
      "text/plain": [
       "(tensor([6, 4, 9, 1, 2, 5, 3, 0, 7, 8]),\n",
       " tensor([4, 8, 0, 7, 0, 9, 7, 1, 9, 2]),\n",
       " tensor(0))"
      ]
     },
     "execution_count": 43,
     "metadata": {},
     "output_type": "execute_result"
    }
   ],
   "source": [
    "trans_est_cosine = sim_matrix(emb_0, emb_1)\n",
    "predict_idx_cosine = torch.max(trans_est_cosine, dim=1).indices\n",
    "acc_cosine = (true_idx == predict_idx_cosine).sum()\n",
    "true_idx, predict_idx_cosine, acc_cosine"
   ]
  },
  {
   "cell_type": "code",
   "execution_count": 44,
   "metadata": {},
   "outputs": [
    {
     "data": {
      "text/plain": [
       "(tensor([6, 4, 9, 1, 2, 5, 3, 0, 7, 8]),\n",
       " tensor([3, 9, 1, 9, 6, 7, 6, 3, 6, 6]),\n",
       " tensor(0))"
      ]
     },
     "execution_count": 44,
     "metadata": {},
     "output_type": "execute_result"
    }
   ],
   "source": [
    "trans_est_pdist1 = torch.cdist(emb_0, emb_1, p=1)\n",
    "predict_idx_pdist1 = torch.max(trans_est_pdist1, dim=1).indices\n",
    "acc_pdist1 = (true_idx == predict_idx_pdist1).sum()\n",
    "true_idx, predict_idx_pdist1, acc_pdist1"
   ]
  },
  {
   "cell_type": "code",
   "execution_count": 45,
   "metadata": {},
   "outputs": [
    {
     "data": {
      "text/plain": [
       "(tensor([6, 4, 9, 1, 2, 5, 3, 0, 7, 8]),\n",
       " tensor([3, 9, 1, 9, 6, 7, 6, 3, 7, 9]),\n",
       " tensor(1))"
      ]
     },
     "execution_count": 45,
     "metadata": {},
     "output_type": "execute_result"
    }
   ],
   "source": [
    "trans_est_pdist2 = torch.cdist(emb_0, emb_1, p=2)\n",
    "predict_idx_pdist2 = torch.max(trans_est_pdist2, dim=1).indices\n",
    "acc_pdist2 = (true_idx == predict_idx_pdist2).sum()\n",
    "true_idx, predict_idx_pdist2, acc_pdist2"
   ]
  },
  {
   "cell_type": "code",
   "execution_count": 27,
   "metadata": {},
   "outputs": [
    {
     "data": {
      "text/plain": [
       "<matplotlib.colorbar.Colorbar at 0x7f161d633fd0>"
      ]
     },
     "execution_count": 27,
     "metadata": {},
     "output_type": "execute_result"
    },
    {
     "data": {
      "image/png": "[encoded data removed]",
      "text/plain": [
       "<Figure size 720x360 with 2 Axes>"
      ]
     },
     "metadata": {
      "needs_background": "light"
     },
     "output_type": "display_data"
    }
   ],
   "source": [
    "plt.figure(figsize=(10, 5))\n",
    "plt.imshow(trans_est_cosine)\n",
    "plt.colorbar()"
   ]
  },
  {
   "cell_type": "code",
   "execution_count": 15,
   "metadata": {},
   "outputs": [
    {
     "data": {
      "text/plain": [
       "<matplotlib.colorbar.Colorbar at 0x7f1628048430>"
      ]
     },
     "execution_count": 15,
     "metadata": {},
     "output_type": "execute_result"
    },
    {
     "data": {
      "image/png": "[encoded data removed]",
      "text/plain": [
       "<Figure size 720x360 with 2 Axes>"
      ]
     },
     "metadata": {
      "needs_background": "light"
     },
     "output_type": "display_data"
    }
   ],
   "source": [
    "plt.figure(figsize=(10, 5))\n",
    "plt.imshow(trans_real)\n",
    "plt.colorbar()"
   ]
  },
  {
   "cell_type": "code",
   "execution_count": 1,
   "metadata": {},
   "outputs": [
    {
     "data": {
      "text/plain": [
       "tensor([1, 2])"
      ]
     },
     "execution_count": 1,
     "metadata": {},
     "output_type": "execute_result"
    }
   ],
   "source": [
    "import torch\n",
    "import torch.nn as nn\n",
    "from torch.distributions.categorical import Categorical\n",
    "m = Categorical(torch.tensor([ 0,0, 0.25, 0.25 ]))\n",
    "\n",
    "a=torch.tensor([1,2,3])\n",
    "\n",
    "a[:-1]"
   ]
  },
  {
   "cell_type": "code",
   "execution_count": 2,
   "metadata": {},
   "outputs": [
    {
     "name": "stdout",
     "output_type": "stream",
     "text": [
      "tensor(3)\n",
      "tensor(2)\n",
      "tensor(3)\n",
      "tensor(2)\n",
      "tensor(3)\n",
      "tensor(3)\n",
      "tensor(2)\n",
      "tensor(3)\n",
      "tensor(3)\n",
      "tensor(3)\n"
     ]
    }
   ],
   "source": [
    "for i in range(10):\n",
    "    print(m.sample())"
   ]
  },
  {
   "cell_type": "code",
   "execution_count": 3,
   "metadata": {},
   "outputs": [
    {
     "data": {
      "text/plain": [
       "array([[4, 9, 6],\n",
       "       [4, 5, 6],\n",
       "       [4, 5, 6]])"
      ]
     },
     "execution_count": 3,
     "metadata": {},
     "output_type": "execute_result"
    }
   ],
   "source": [
    "import numpy as np\n",
    "\n",
    "a=np.array([\n",
    "    [\n",
    "        [1,2,3],\n",
    "        [4,9,6]\n",
    "    ],\n",
    "     [\n",
    "        [1,2,3],\n",
    "        [4,5,6]\n",
    "    ],\n",
    "     [\n",
    "        [1,2,3],\n",
    "        [4,5,6]\n",
    "    ]\n",
    "])\n",
    "\n",
    "np.max(a,axis=1)"
   ]
  },
  {
   "cell_type": "code",
   "execution_count": 8,
   "metadata": {},
   "outputs": [
    {
     "data": {
      "text/plain": [
       "(Parameter containing:\n",
       " tensor([[-0.9972,  1.6495, -1.6660,  1.0666, -0.1427,  2.5630],\n",
       "         [ 0.0000,  0.0000,  0.0000,  0.0000,  0.0000,  0.0000],\n",
       "         [-0.5499,  1.1843, -0.2520, -0.6407,  0.0912,  1.9714],\n",
       "         [ 2.0574,  1.7108, -0.7763,  1.7504, -0.2578, -0.6238],\n",
       "         [ 0.4631,  0.4221, -0.9828, -0.8251,  1.8313,  0.4824]],\n",
       "        requires_grad=True),\n",
       " tensor([0., 0., 0., 0., 0., 0.], grad_fn=<EmbeddingBackward0>))"
      ]
     },
     "execution_count": 8,
     "metadata": {},
     "output_type": "execute_result"
    }
   ],
   "source": [
    "embedding = nn.Embedding(3, 3)\n",
    "a=torch.tensor([\n",
    "    [0,1,0],\n",
    "    [1,0,0],\n",
    "    [0,0,1]\n",
    "])\n",
    "e= nn.Embedding(5, 6, padding_idx=1)\n",
    "\n",
    "e.weight,e(torch.tensor(1))"
   ]
  },
  {
   "cell_type": "code",
   "execution_count": 18,
   "metadata": {},
   "outputs": [],
   "source": [
    "x=1-e(torch.tensor(1))*3"
   ]
  },
  {
   "cell_type": "code",
   "execution_count": 19,
   "metadata": {},
   "outputs": [],
   "source": [
    "l=x.mean()\n",
    "l.backward()"
   ]
  },
  {
   "cell_type": "code",
   "execution_count": 20,
   "metadata": {},
   "outputs": [
    {
     "name": "stdout",
     "output_type": "stream",
     "text": [
      "tensor([[-0.9972,  1.6495, -1.6660,  1.0666, -0.1427,  2.5630],\n",
      "        [ 0.0000,  0.0000,  0.0000,  0.0000,  0.0000,  0.0000],\n",
      "        [-0.5499,  1.1843, -0.2520, -0.6407,  0.0912,  1.9714],\n",
      "        [ 2.0574,  1.7108, -0.7763,  1.7504, -0.2578, -0.6238],\n",
      "        [ 0.4631,  0.4221, -0.9828, -0.8251,  1.8313,  0.4824]])\n"
     ]
    }
   ],
   "source": [
    "print(e.weight.data)"
   ]
  },
  {
   "cell_type": "code",
   "execution_count": 3,
   "metadata": {},
   "outputs": [
    {
     "data": {
      "text/plain": [
       "array([[2, 1, 3],\n",
       "       [3, 2, 4],\n",
       "       [6, 1, 5],\n",
       "       [3, 9, 4]])"
      ]
     },
     "execution_count": 3,
     "metadata": {},
     "output_type": "execute_result"
    }
   ],
   "source": [
    "import numpy as np\n",
    "a = np.array([[1,2,3],[2,3,4],[1,6,5], [9,3,4]])\n",
    "a[:,[1,0,2]]"
   ]
  },
  {
   "cell_type": "code",
   "execution_count": 32,
   "metadata": {},
   "outputs": [],
   "source": [
    "d=dict(a.reshape(b.shape))\n",
    "import numpy as np"
   ]
  },
  {
   "cell_type": "code",
   "execution_count": 36,
   "metadata": {},
   "outputs": [
    {
     "data": {
      "text/plain": [
       "array([[1, 2],\n",
       "       [3, 4]], dtype=int64)"
      ]
     },
     "execution_count": 36,
     "metadata": {},
     "output_type": "execute_result"
    }
   ],
   "source": [
    "np.array(list(d.items()))"
   ]
  },
  {
   "cell_type": "code",
   "execution_count": null,
   "metadata": {},
   "outputs": [],
   "source": []
  }
 ],
 "metadata": {
  "kernelspec": {
   "display_name": "Python 3.9.7 ('Python39')",
   "language": "python",
   "name": "python3"
  },
  "language_info": {
   "codemirror_mode": {
    "name": "ipython",
    "version": 3
   },
   "file_extension": ".py",
   "mimetype": "text/x-python",
   "name": "python",
   "nbconvert_exporter": "python",
   "pygments_lexer": "ipython3",
   "version": "3.9.7 (default, Sep 16 2021, 16:59:28) [MSC v.1916 64 bit (AMD64)]"
  },
  "orig_nbformat": 4,
  "vscode": {
   "interpreter": {
    "hash": "034f7409b523fe159947f81c0aebb25cfe33a9dd8e50b6b2ca18d8c7334c8f7b"
   }
  }
 },
 "nbformat": 4,
 "nbformat_minor": 2
}
